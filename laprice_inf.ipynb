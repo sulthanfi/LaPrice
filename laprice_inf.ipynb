{
 "cells": [
  {
   "cell_type": "markdown",
   "metadata": {},
   "source": [
    "# Inference"
   ]
  },
  {
   "cell_type": "markdown",
   "metadata": {},
   "source": [
    "## Import"
   ]
  },
  {
   "cell_type": "code",
   "execution_count": 24,
   "metadata": {},
   "outputs": [],
   "source": [
    "# Dataframe\n",
    "import pandas as pd\n",
    "\n",
    "# Model saving\n",
    "import pickle"
   ]
  },
  {
   "cell_type": "markdown",
   "metadata": {},
   "source": [
    "## Load"
   ]
  },
  {
   "cell_type": "code",
   "execution_count": 25,
   "metadata": {},
   "outputs": [],
   "source": [
    "# Load Pipeline\n",
    "with open('best_random_forest_model.pkl', 'rb') as file:\n",
    "    loaded_model = pickle.load(file)\n",
    "\n",
    "# Load preproc\n",
    "with open('preproc_pipeline.pkl','rb') as file_2:\n",
    "    preproc_pipeline = pickle.load(file_2)"
   ]
  },
  {
   "cell_type": "markdown",
   "metadata": {},
   "source": [
    "## Dataframe"
   ]
  },
  {
   "cell_type": "code",
   "execution_count": 26,
   "metadata": {},
   "outputs": [
    {
     "name": "stdout",
     "output_type": "stream",
     "text": [
      "           OS    Screen CPU_model PrimaryStorageType SecondaryStorageType  \\\n",
      "0       macOS  Standard   Core i5                SSD                   No   \n",
      "1  Windows 10  Standard  Core i3U                HDD                   No   \n",
      "2  Windows 10   Full HD     Ryzen                SSD                  HDD   \n",
      "\n",
      "   Ram  ScreenW  ScreenH  CPU_freq  \n",
      "0    8     2560     1600       2.3  \n",
      "1    8     1366      768       2.0  \n",
      "2   16     2560     1440       2.5  \n"
     ]
    }
   ],
   "source": [
    "# Data contoh untuk inference\n",
    "data = {\n",
    "    'OS': ['macOS', 'Windows 10', 'Windows 10'],\n",
    "    'Screen': ['Standard', 'Standard', 'Full HD'],\n",
    "    'CPU_model': ['Core i5', 'Core i3U', 'Ryzen'],\n",
    "    'PrimaryStorageType': ['SSD', 'HDD', 'SSD'],\n",
    "    'SecondaryStorageType': ['No', 'No', 'HDD'],\n",
    "    'Ram': [8, 8, 16],  # dalam GB\n",
    "    'ScreenW': [2560, 1366, 2560],  # resolusi lebar\n",
    "    'ScreenH': [1600, 768, 1440],  # resolusi tinggi\n",
    "    'CPU_freq': [2.3, 2.0, 2.5]  # dalam GHz\n",
    "}\n",
    "\n",
    "# Membuat DataFrame\n",
    "df_inference = pd.DataFrame(data)\n",
    "\n",
    "# Menampilkan DataFrame\n",
    "print(df_inference)\n"
   ]
  },
  {
   "cell_type": "markdown",
   "metadata": {},
   "source": [
    "## Predict"
   ]
  },
  {
   "cell_type": "code",
   "execution_count": 27,
   "metadata": {},
   "outputs": [
    {
     "name": "stdout",
     "output_type": "stream",
     "text": [
      "Predictions: [1465.20942357  601.45174282 1679.85801982]\n"
     ]
    }
   ],
   "source": [
    "# Pastikan untuk melakukan preprocessing yang sama seperti pada data pelatihan\n",
    "df_inference_prep = preproc_pipeline.transform(df_inference)\n",
    "\n",
    "# Melakukan prediksi\n",
    "predictions = loaded_model.predict(df_inference_prep)\n",
    "\n",
    "# Menampilkan hasil prediksi\n",
    "print(\"Predictions:\", predictions)"
   ]
  },
  {
   "cell_type": "markdown",
   "metadata": {},
   "source": [
    "Insight:\n",
    "- Setelah dilakukan inference, model berhasil melakukan prediksi berdasarkan spesifikasi yang ditentukan.\n",
    "- Laptop 1 dengan spesifikasi tinggi (Intel i7, RAM 16GB, SSD) memiliki harga tertinggi. Hal ini menunjukkan bahwa faktor-faktor seperti CPU yang lebih kuat dan ukuran layar yang lebih besar berkontribusi pada peningkatan harga.\n",
    "- Laptop 2 dengan spesifikasi lebih rendah (AMD Ryzen 5, RAM 8GB, HDD) memiliki harga terendah. Ini mencerminkan bahwa komponen yang lebih dasar dan ukuran layar yang lebih kecil cenderung menurunkan harga.\n",
    "- Laptop 3 memiliki spesifikasi yang juga kuat (Intel i5, RAM 12GB, SSD) dengan harga yang hampir setara dengan Laptop 1, meskipun memiliki CPU yang sedikit lebih rendah. Ini menunjukkan bahwa RAM yang lebih tinggi dan jenis penyimpanan (SSD) tetap memiliki dampak positif terhadap harga.\n",
    "\n",
    "Kesimpulan : Hasil prediksi menunjukkan bahwa spesifikasi teknis laptop memiliki dampak langsung pada harga. Perusahaan laptop harus mempertimbangkan spesifikasi yang sesuai dengan kebutuhan market, sambil mempertahankan keseimbangan antara kinerja dan anggarannya. Dengan pemahaman ini, perusahaan dapat membuat keputusan yang lebih baik saat mengatur harga laptop yang sedang dibuat."
   ]
  }
 ],
 "metadata": {
  "kernelspec": {
   "display_name": "PHASE_1",
   "language": "python",
   "name": "python3"
  },
  "language_info": {
   "codemirror_mode": {
    "name": "ipython",
    "version": 3
   },
   "file_extension": ".py",
   "mimetype": "text/x-python",
   "name": "python",
   "nbconvert_exporter": "python",
   "pygments_lexer": "ipython3",
   "version": "3.12.5"
  }
 },
 "nbformat": 4,
 "nbformat_minor": 2
}
